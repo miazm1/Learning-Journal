{
 "cells": [
  {
   "cell_type": "markdown",
   "metadata": {},
   "source": [
    "* Buatlah sebuah function yang dapat mengkonversi suhu dari kelvin ke celcius, dan celcius ke kelvin.\n",
    "* Buatlah sebuah function yang dapat mengkonversi suhu ke fahrenheit. Tambahkan parameter untuk memastikan bahwa argumen yang dimasukan adalah celcius atau kelvin. Panggil function yang pertama jika diperlukan.\n",
    "* Buatlah sebuah function yang dapat mengkonversi suhu dari fahrenheit. Berikan argumen untuk memastikan bahwa outputnya dalah celcius atau kelvin.\n",
    "* Berikan dokumentasi pada setiap baris kode yang kalian tulis.\n"
   ]
  },
  {
   "cell_type": "code",
   "execution_count": 67,
   "metadata": {},
   "outputs": [],
   "source": [
    "def converter_suhu_c_k(unit,val): # fungsi konversi suhu dari celsius ke kelvin atau sebaliknya\n",
    "    if unit.lower() == \"celsius\" or unit.lower() == \"c\": # if conditional memastikan bahwa input yang dimasukan adalah satuan celsius, menggunakan lower dan or untuk avoid perbedaan penulisan\n",
    "        return round(val + 273.15,2)\n",
    "    elif unit.lower() == \"kelvin\" or unit.lower() == \"k\": # elif conditional memastikan bahwa input yang dimasukan adalah satuan celsius, menggunakan lower dan or untuk avoid perbedaan penulisan\n",
    "        return round(val - 273.15,2)\n",
    "    else:\n",
    "        return \"input salah\""
   ]
  },
  {
   "cell_type": "code",
   "execution_count": 68,
   "metadata": {},
   "outputs": [],
   "source": [
    "def converter_suhu_to_f(unit,val): # fungsi konversi suhu celsius dan kelvin ke fahrenheit\n",
    "    if unit.lower() == \"celsius\" or unit.lower() == \"c\": #conditional untuk memastikan input dari celsius, menggunakan lower dan or untuk avoid perbedaan penulisan\n",
    "        return round(((1.8 * val)+ 32),2)\n",
    "    elif unit.lower() == \"kelvin\" or unit.lower() == \"k\": #conditional untuk memastikan input dari kelvin, menggunakan lower dan or untuk avoid perbedaan penulisan\n",
    "        return round(((1.8 * (val-273))+ 32),2)\n",
    "    else:\n",
    "        return \"input salah\""
   ]
  },
  {
   "cell_type": "code",
   "execution_count": 69,
   "metadata": {},
   "outputs": [],
   "source": [
    "def converter_suhu_from_f (unit,val,out): #fungsi konversi suhu dari fahrenheit dengan tiga parameter yaitu unit input, value(nilai) input, dan output satuan yang diinginkan. \n",
    "    if unit.lower() == \"fahrenheit\" or unit.lower() == \"f\": #conditional untuk memastikan bahwa input yang dimasukkan adalah fahrenheit , menggunakan lower, or untuk avoid perbedaan penulisan\n",
    "        if out.lower() == \"celsius\" or out.lower() == \"c\": #conditional untuk memastikan output ke celsius, menggunakan lower dan or untuk avoid perbedaan penulisan\n",
    "            return round(((val-32)* 5/9),2)\n",
    "        elif out.lower() == \"kelvin\" or out.lower() == \"k\":#conditional untuk memastikan output ke kelvin, menggunakan lower dan or untuk avoid perbedaan penulisan\n",
    "            return round((((val-32)* 5/9)+273.15),2)\n",
    "        elif out.lower() == \"fahrenheit\" or out.lower() == \"f\": #jika memasukan output fahrenheit akan mengeluarkan kata seperti di print\n",
    "            return \"Suhu sudah dari satuan Fahrenheit\"\n",
    "    elif unit.lower() == \"celsius\" or unit.lower() == \"c\": #untuk memberitahu bahwa input yang dimasukkan adalah celsius\n",
    "        return f\"Conversi khusus dari Fahrenheit, satuan yang dimasukkan adalah Celsius\"\n",
    "    elif unit.lower() == \"kelvin\" or unit.lower() == \"k\": #untuk memberitahu bahwa input yang dimasukkan adalah kelvin\n",
    "        return f\"Conversi khusus dari Fahrenheit, satuan yang dimasukkan adalah Kelvin\"\n",
    "\n"
   ]
  }
 ],
 "metadata": {
  "kernelspec": {
   "display_name": "Python 3.9.7 ('base')",
   "language": "python",
   "name": "python3"
  },
  "language_info": {
   "codemirror_mode": {
    "name": "ipython",
    "version": 3
   },
   "file_extension": ".py",
   "mimetype": "text/x-python",
   "name": "python",
   "nbconvert_exporter": "python",
   "pygments_lexer": "ipython3",
   "version": "3.9.7"
  },
  "orig_nbformat": 4,
  "vscode": {
   "interpreter": {
    "hash": "cec7daa8bc2b3acc688b72e107af71b7070ca84a9339e237bd4d9d44f746e39c"
   }
  }
 },
 "nbformat": 4,
 "nbformat_minor": 2
}
