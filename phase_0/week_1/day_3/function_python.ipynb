{
 "cells": [
  {
   "cell_type": "markdown",
   "metadata": {},
   "source": [
    "# Function"
   ]
  },
  {
   "cell_type": "code",
   "execution_count": null,
   "metadata": {},
   "outputs": [],
   "source": [
    "#Syntax def name_function (parameter): \n",
    "            #\"docstrings\"\n",
    "            #body dari function\n",
    "            #print()\n",
    "            #return"
   ]
  },
  {
   "cell_type": "markdown",
   "metadata": {},
   "source": [
    "          \n",
    "* name of function should be unique to avoid conflict with other function)\n",
    "* fungsi yang baik ada docstringnya. docstring adalah keterangan yang jelas terkait function"
   ]
  },
  {
   "cell_type": "code",
   "execution_count": 1,
   "metadata": {},
   "outputs": [],
   "source": [
    "#contoh function\n",
    "\n",
    "def cetak (nama,umur):\n",
    "    \"Function ini akan melakukan print nama dan umur\"\n",
    "    print(f\"Nama Saya {nama} dan umur Saya {umur} tahun\")"
   ]
  },
  {
   "cell_type": "code",
   "execution_count": 3,
   "metadata": {},
   "outputs": [
    {
     "name": "stdout",
     "output_type": "stream",
     "text": [
      "Nama Saya azmi dan umur Saya 23 tahun\n"
     ]
    }
   ],
   "source": [
    "cetak(\"azmi\",\"23\")"
   ]
  },
  {
   "cell_type": "code",
   "execution_count": 5,
   "metadata": {},
   "outputs": [
    {
     "name": "stdout",
     "output_type": "stream",
     "text": [
      "Nama Saya ['azmi', 'hazia'] dan umur Saya ['23', '24'] tahun\n"
     ]
    }
   ],
   "source": [
    "nama1 = ['azmi','hazia']\n",
    "umur1 = ['23','24']\n",
    "\n",
    "cetak(umur = umur1, nama= nama1)\n"
   ]
  },
  {
   "cell_type": "code",
   "execution_count": 25,
   "metadata": {},
   "outputs": [],
   "source": [
    "def penjumlahan (x,y):\n",
    "    \"Function addition operator\"\n",
    "    hasil = x + y #local variabel hasil, untuk mempengaruhi ke global variable bisa di panggil dengan cara \"global variabel\"\n",
    "    print(hasil) #jika hanya print tanpa return maka fungsi ini hanya berfungsi untuk print, tidak store ke value, sehingga menggunakan return value\n",
    "    return hasil\n"
   ]
  },
  {
   "cell_type": "code",
   "execution_count": 29,
   "metadata": {},
   "outputs": [
    {
     "name": "stdout",
     "output_type": "stream",
     "text": [
      "11\n",
      "<class 'int'>\n"
     ]
    }
   ],
   "source": [
    "a = penjumlahan(3,8)\n",
    "print(type(a))"
   ]
  },
  {
   "cell_type": "code",
   "execution_count": 31,
   "metadata": {},
   "outputs": [],
   "source": [
    "hasil = 3"
   ]
  },
  {
   "cell_type": "code",
   "execution_count": 32,
   "metadata": {},
   "outputs": [],
   "source": [
    "def berhitung (x,y):\n",
    "    tambah = x + y\n",
    "    kurang = x - y\n",
    "    kali = x*y\n",
    "    bagi = x/y\n",
    "    return tambah, kurang, kali, bagi\n",
    "\n",
    "ngitung = berhitung(3,5)"
   ]
  },
  {
   "cell_type": "code",
   "execution_count": 33,
   "metadata": {},
   "outputs": [
    {
     "name": "stdout",
     "output_type": "stream",
     "text": [
      "(8, -2, 15, 0.6)\n"
     ]
    }
   ],
   "source": [
    "print(ngitung)"
   ]
  },
  {
   "cell_type": "code",
   "execution_count": 36,
   "metadata": {},
   "outputs": [
    {
     "name": "stdout",
     "output_type": "stream",
     "text": [
      " 4 adalah bilangan genap\n",
      " 7 adalah bilangan ganjil\n"
     ]
    }
   ],
   "source": [
    "def ganjil_genap(x):\n",
    "    if x%2 == 0:\n",
    "        a = print(f\" {x} adalah bilangan genap\")\n",
    "    else:\n",
    "        a =  print(f\" {x} adalah bilangan ganjil\")\n",
    "    return a\n",
    "\n",
    "ganjil_genap(4)\n",
    "ganjil_genap(7)"
   ]
  },
  {
   "cell_type": "code",
   "execution_count": 42,
   "metadata": {},
   "outputs": [
    {
     "name": "stdout",
     "output_type": "stream",
     "text": [
      "True\n",
      "True\n",
      "False\n"
     ]
    }
   ],
   "source": [
    "def deteksi_kata(a):\n",
    "    if a.lower() in \"hacktiv8\":\n",
    "        p = print(True)\n",
    "    else:\n",
    "        p = print(False)\n",
    "    return p\n",
    "\n",
    "deteksi_kata(\"Hacktiv8\")\n",
    "deteksi_kata(\"hacktiv8\")\n",
    "deteksi_kata(\"ayam\")"
   ]
  },
  {
   "cell_type": "code",
   "execution_count": 43,
   "metadata": {},
   "outputs": [],
   "source": [
    "def tambah (*args): #memerlukan asterisk (*) jika parameternya bisa bertambah seiring waktu sehingga tidak perlu merubah fungsi\n",
    "        return sum(args)"
   ]
  },
  {
   "cell_type": "code",
   "execution_count": 46,
   "metadata": {},
   "outputs": [
    {
     "name": "stdout",
     "output_type": "stream",
     "text": [
      "35\n"
     ]
    }
   ],
   "source": [
    "o = tambah(1,2,3,4,5,6,7,7)\n",
    "print(o)"
   ]
  },
  {
   "cell_type": "code",
   "execution_count": 67,
   "metadata": {},
   "outputs": [
    {
     "name": "stdout",
     "output_type": "stream",
     "text": [
      "3\n",
      "Pendaftaran atas nama Azmi berumur 23 tahun\n"
     ]
    }
   ],
   "source": [
    "def pendaftaran(data,**kwargs): # ** astersik(*) 2 mengindikasikan kalau ini dictionary\n",
    "    print(data)\n",
    "    for key,value in kwargs.items():\n",
    "        return print(f\"Pendaftaran atas nama {key} berumur {value} tahun\")\n",
    "    \n",
    "\n",
    "pendaftaran(3,Azmi = \"23\", Hazia = \"24\")"
   ]
  },
  {
   "cell_type": "code",
   "execution_count": 61,
   "metadata": {},
   "outputs": [],
   "source": [
    "def BMI(nama,weight,height): #wight in kg and height in m\n",
    "    BMI_formula = weight / (height**2)\n",
    "    if BMI_formula > 0:\n",
    "        if BMI_formula < 18.5:\n",
    "            return print(f\"BMI {nama} = {round(BMI_formula,2)} masuk dalam kategori underweight\")\n",
    "        elif 18.5<=BMI_formula<= 24.9:\n",
    "            return print(f\"BMI {nama} = {round(BMI_formula,2)} masuk dalam kategori normal\")\n",
    "        elif 25<=BMI_formula<= 29.9:\n",
    "            return print(f\"BMI {nama} = {round(BMI_formula,2)} masuk dalam kategori overweight\")\n",
    "        else:\n",
    "            return print(f\"BMI {nama} = {round(BMI_formula,2)} masuk dalam kategori very overweight\")\n",
    "    else:\n",
    "        return print(f\"BMI {nama} tidak valid\")"
   ]
  },
  {
   "cell_type": "code",
   "execution_count": 62,
   "metadata": {},
   "outputs": [
    {
     "name": "stdout",
     "output_type": "stream",
     "text": [
      "BMI Andi = 25.95 masuk dalam kategori overweight\n"
     ]
    }
   ],
   "source": [
    "BMI(\"Andi\",75,1.7)"
   ]
  }
 ],
 "metadata": {
  "kernelspec": {
   "display_name": "Python 3.9.7 ('base')",
   "language": "python",
   "name": "python3"
  },
  "language_info": {
   "codemirror_mode": {
    "name": "ipython",
    "version": 3
   },
   "file_extension": ".py",
   "mimetype": "text/x-python",
   "name": "python",
   "nbconvert_exporter": "python",
   "pygments_lexer": "ipython3",
   "version": "3.9.7"
  },
  "orig_nbformat": 4,
  "vscode": {
   "interpreter": {
    "hash": "cec7daa8bc2b3acc688b72e107af71b7070ca84a9339e237bd4d9d44f746e39c"
   }
  }
 },
 "nbformat": 4,
 "nbformat_minor": 2
}
