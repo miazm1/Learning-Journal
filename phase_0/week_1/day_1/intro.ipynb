{
 "cells": [
  {
   "cell_type": "markdown",
   "metadata": {},
   "source": [
    "# Pengenalan Python"
   ]
  },
  {
   "cell_type": "markdown",
   "metadata": {},
   "source": [
    "# Numerical Data Type : Integer, Float, Complex"
   ]
  },
  {
   "cell_type": "code",
   "execution_count": 3,
   "metadata": {},
   "outputs": [
    {
     "name": "stdout",
     "output_type": "stream",
     "text": [
      "7\n",
      "<class 'int'>\n",
      "10\n",
      "<class 'int'>\n"
     ]
    }
   ],
   "source": [
    "# integer\n",
    "angka = 7\n",
    "print(angka)\n",
    "print(type(angka))\n",
    "\n",
    "angka = 10\n",
    "print(angka)\n",
    "print(type(angka))"
   ]
  },
  {
   "cell_type": "code",
   "execution_count": 9,
   "metadata": {},
   "outputs": [
    {
     "name": "stdout",
     "output_type": "stream",
     "text": [
      "7.2\n",
      "<class 'float'>\n",
      "0.0049\n",
      "<class 'float'>\n"
     ]
    }
   ],
   "source": [
    "# floating-point\n",
    "angka_f = 7.2\n",
    "print(angka_f)\n",
    "print(type(angka_f))\n",
    "\n",
    "angka_f = 4.9e-3\n",
    "print(angka_f)\n",
    "print(type(angka_f))"
   ]
  },
  {
   "cell_type": "code",
   "execution_count": 7,
   "metadata": {},
   "outputs": [
    {
     "name": "stdout",
     "output_type": "stream",
     "text": [
      "(2+5j)\n",
      "<class 'complex'>\n"
     ]
    }
   ],
   "source": [
    "#complex cth a+bi --> i=imajiner=akar -1\n",
    "\n",
    "angka_kompleks = 2+5j\n",
    "print(angka_kompleks)\n",
    "print(type(angka_kompleks))\n"
   ]
  },
  {
   "cell_type": "markdown",
   "metadata": {},
   "source": [
    "# String Data Type"
   ]
  },
  {
   "cell_type": "code",
   "execution_count": 15,
   "metadata": {},
   "outputs": [
    {
     "name": "stdout",
     "output_type": "stream",
     "text": [
      "Maulana Azmi Izzuddin\n",
      "<class 'str'>\n",
      "jum'at\n",
      "Senin\n",
      "Selasa\n",
      "Rabu\n",
      "Kamis\n",
      "Jumat\n",
      "Sabtu\n",
      "Minggu\n"
     ]
    }
   ],
   "source": [
    "#String : sequence of character\n",
    "\n",
    "first_name = \"Maulana Azmi\"\n",
    "last_name = \"Izzuddin\"\n",
    "print(first_name + \" \"+last_name)\n",
    "print(type(first_name + \"\"+last_name))\n",
    "\n",
    "hari = 'jum\\'at'\n",
    "print(hari)\n",
    "\n",
    "hari_1= \"\"\"Senin\n",
    "Selasa\n",
    "Rabu\n",
    "Kamis\n",
    "Jumat\n",
    "Sabtu\n",
    "Minggu\"\"\"\n",
    "print(hari_1)"
   ]
  },
  {
   "cell_type": "markdown",
   "metadata": {},
   "source": [
    "## Slicing string"
   ]
  },
  {
   "cell_type": "markdown",
   "metadata": {},
   "source": [
    "Slicing a[p1:p2:p3] yang dimana  p1 : start (inclusive) p2: end (exclusive) p3 : step"
   ]
  },
  {
   "cell_type": "code",
   "execution_count": 24,
   "metadata": {},
   "outputs": [
    {
     "name": "stdout",
     "output_type": "stream",
     "text": [
      "A\n",
      "m\n",
      "Maulana\n",
      "lana\n",
      "ln\n"
     ]
    }
   ],
   "source": [
    "print(first_name[8])\n",
    "print(first_name[-2])\n",
    "print(first_name[:7])\n",
    "print(first_name[3:7])\n",
    "print(first_name[3:7:2])"
   ]
  },
  {
   "cell_type": "markdown",
   "metadata": {},
   "source": [
    "## String Formatting f-string"
   ]
  },
  {
   "cell_type": "code",
   "execution_count": 26,
   "metadata": {},
   "outputs": [
    {
     "name": "stdout",
     "output_type": "stream",
     "text": [
      "Nama Saya adalah Maulana Azmi Izzuddin\n"
     ]
    }
   ],
   "source": [
    "print(f\"Nama Saya adalah {first_name} {last_name}\")"
   ]
  },
  {
   "cell_type": "markdown",
   "metadata": {},
   "source": [
    "## User Input Program"
   ]
  },
  {
   "cell_type": "code",
   "execution_count": 30,
   "metadata": {},
   "outputs": [
    {
     "name": "stdout",
     "output_type": "stream",
     "text": [
      "Nama Saya adalah Azmi \n",
      "berusia 23 tahun\n"
     ]
    }
   ],
   "source": [
    "nama = input(\"Masukkan nama Anda : \")\n",
    "usia = input(\"Masukkan usia Anda : \")\n",
    "\n",
    "print(f\"Nama Saya adalah {nama} \\nBerusia {usia} tahun\")"
   ]
  },
  {
   "cell_type": "markdown",
   "metadata": {},
   "source": [
    "# Boolean Data Type"
   ]
  },
  {
   "cell_type": "code",
   "execution_count": 36,
   "metadata": {},
   "outputs": [
    {
     "name": "stdout",
     "output_type": "stream",
     "text": [
      "True\n",
      "<class 'bool'>\n",
      "False\n",
      "<class 'bool'>\n"
     ]
    }
   ],
   "source": [
    "print(100<=500)\n",
    "print(type(True))\n",
    "print(100>=500)\n",
    "print(type(False))"
   ]
  },
  {
   "cell_type": "markdown",
   "metadata": {},
   "source": [
    "# Variable Assignment"
   ]
  },
  {
   "cell_type": "code",
   "execution_count": 39,
   "metadata": {},
   "outputs": [
    {
     "name": "stdout",
     "output_type": "stream",
     "text": [
      "40 40 40\n",
      "a : 40\n",
      "b : 40\n",
      "c : 40\n",
      "1 2 3\n",
      "a : 1\n",
      "b : 2\n",
      "c : 3\n"
     ]
    }
   ],
   "source": [
    "a=b=c=40\n",
    "print(a,b,c)\n",
    "print(f\"a : {a}\")\n",
    "print(f\"b : {b}\")\n",
    "print(f\"c : {c}\")\n",
    "\n",
    "a,b,c = 1,2,3\n",
    "print(a,b,c)\n",
    "print(f\"a : {a}\")\n",
    "print(f\"b : {b}\")\n",
    "print(f\"c : {c}\")"
   ]
  },
  {
   "cell_type": "markdown",
   "metadata": {},
   "source": [
    "# Operations"
   ]
  },
  {
   "cell_type": "markdown",
   "metadata": {},
   "source": [
    "## Arithmetic Operations"
   ]
  },
  {
   "cell_type": "code",
   "execution_count": 44,
   "metadata": {},
   "outputs": [
    {
     "name": "stdout",
     "output_type": "stream",
     "text": [
      "hasil penjumlahan : 23\n",
      "hasil pengurangan : 17\n",
      "hasil perkalian : 60\n",
      "hasil pembagian bulat : 6\n",
      "hasil pembagian normal : 6.666666666666667\n",
      "hasil pangkat : 8000\n",
      "hasil sisa bagi : 2\n"
     ]
    }
   ],
   "source": [
    "a = 20\n",
    "b = 3\n",
    "\n",
    "print(f\"hasil penjumlahan : {a + b}\")\n",
    "print(f\"hasil pengurangan : {a - b}\")\n",
    "print(f\"hasil perkalian : {a * b}\")\n",
    "print(f\"hasil pembagian bulat : {a // b}\")\n",
    "print(f\"hasil pembagian normal : {a / b}\")\n",
    "print(f\"hasil pangkat : {a ** b}\")\n",
    "print(f\"hasil sisa bagi : {a % b}\")"
   ]
  },
  {
   "cell_type": "markdown",
   "metadata": {},
   "source": [
    "## String Manipulations"
   ]
  },
  {
   "cell_type": "code",
   "execution_count": 51,
   "metadata": {},
   "outputs": [
    {
     "name": "stdout",
     "output_type": "stream",
     "text": [
      "Nama Saya adalah Maulana Azmi Izzuddin\n",
      "Nama Saya adalah Maulana Azmi Izzuddin\n",
      "Maulana AzmiMaulana AzmiMaulana AzmiMaulana AzmiMaulana Azmi\n",
      "Maulana azmi\n",
      "MAULANA AZMI\n",
      "maulana azmi\n",
      "mAULANA aZMI\n"
     ]
    }
   ],
   "source": [
    "first_name = \"Maulana Azmi\"\n",
    "last_name = \"Izzuddin\"\n",
    "\n",
    "print(f\"Nama Saya adalah {first_name + ' ' +last_name}\")\n",
    "print(\"Nama Saya adalah \" + first_name + ' ' +last_name)\n",
    "print(first_name * 5)\n",
    "print(first_name.capitalize())\n",
    "print(first_name.upper())\n",
    "print(first_name.lower())\n",
    "print(first_name.swapcase())"
   ]
  },
  {
   "cell_type": "markdown",
   "metadata": {},
   "source": [
    "## Comparison Operations"
   ]
  },
  {
   "cell_type": "code",
   "execution_count": 54,
   "metadata": {},
   "outputs": [
    {
     "name": "stdout",
     "output_type": "stream",
     "text": [
      "20 == 3 (equal) : False\n",
      "20 != 3 (not equal) : True\n",
      "20 > 3 (greater than) : True\n",
      "20 >= 3 (greater than equal) : True\n",
      "20 < 3 (less than) : False\n",
      "20 <= 3 (less than equal) : False\n"
     ]
    }
   ],
   "source": [
    "print(f\"{a} == {b} (equal) : {a ==b}\")\n",
    "print(f\"{a} != {b} (not equal) : {a !=b}\")\n",
    "print(f\"{a} > {b} (greater than) : {a >b}\")\n",
    "print(f\"{a} >= {b} (greater than equal) : {a >=b}\")\n",
    "print(f\"{a} < {b} (less than) : {a <b}\")\n",
    "print(f\"{a} <= {b} (less than equal) : {a <=b}\")"
   ]
  },
  {
   "cell_type": "markdown",
   "metadata": {},
   "source": [
    "# List and Tuple"
   ]
  },
  {
   "cell_type": "code",
   "execution_count": 1,
   "metadata": {},
   "outputs": [
    {
     "name": "stdout",
     "output_type": "stream",
     "text": [
      "<class 'list'>\n",
      "<class 'tuple'>\n",
      "6\n",
      "6\n",
      "[3, 'Azmi', True, (1, 2, 3)]\n",
      "[3, True]\n",
      "(3, 'Azmi', True, (1, 2, 3))\n",
      "[3, True]\n",
      "[1, 2, 3, 'Azmi', False, (1, 2, 3)]\n",
      "[1, 2, 3, 'Azmi', False, (1, 2, 3), 100]\n",
      "[1, 2, 3, 100, 'Azmi', False, (1, 2, 3), 100]\n",
      "[1, 2, 3, 'Azmi', False, (1, 2, 3), 100]\n",
      "[1, 2, 3, (1, 2, 3), 100]\n",
      "{'nama': 'Azmi', 'usia': '23', 'program': 'Data Science'}\n",
      "<class 'dict'>\n",
      "{'nama': 'Maulana Azmi', 'usia': '23', 'program': 'Data Science'}\n",
      "{'nama': 'Maulana Azmi', 'usia': '23', 'program': 'Data Science', 'status': 'menikah'}\n"
     ]
    }
   ],
   "source": [
    "my_list = [1,2,3,'Azmi',True,(1,2,3)]\n",
    "my_tuple = (1,2,3,'Azmi',True,(1,2,3))\n",
    "\n",
    "print(type(my_list))\n",
    "print(type(my_tuple))\n",
    "\n",
    "#List ini adalah mutable\n",
    "#Tuple ini adalah immutable\n",
    "\n",
    "print(len(my_list))\n",
    "print(len(my_tuple))\n"
   ]
  },
  {
   "cell_type": "markdown",
   "metadata": {},
   "source": [
    "## Slicing List Tuple"
   ]
  },
  {
   "cell_type": "code",
   "execution_count": 2,
   "metadata": {},
   "outputs": [
    {
     "name": "stdout",
     "output_type": "stream",
     "text": [
      "[3, (1, 2, 3), 100]\n",
      "[3, 100]\n",
      "(3, 'Azmi', True, (1, 2, 3))\n",
      "[3, 100]\n"
     ]
    }
   ],
   "source": [
    "print(my_list[2:7])\n",
    "print(my_list[2:7:2])\n",
    "print(my_tuple[2:7])\n",
    "print(my_list[2:7:2])"
   ]
  },
  {
   "cell_type": "markdown",
   "metadata": {},
   "source": [
    "## Change value list and tuple"
   ]
  },
  {
   "cell_type": "code",
   "execution_count": 3,
   "metadata": {},
   "outputs": [
    {
     "name": "stdout",
     "output_type": "stream",
     "text": [
      "[1, 2, 3, (1, 2, 3), False]\n"
     ]
    }
   ],
   "source": [
    "my_list [4] = False\n",
    "print(my_list)\n",
    "\n",
    "# my_tuple[4] = False tidka bisa karena immutable, tidak bisa diubah\n",
    "\n",
    "#print(my_tuple)\n"
   ]
  },
  {
   "cell_type": "markdown",
   "metadata": {},
   "source": [
    "## List Method"
   ]
  },
  {
   "cell_type": "code",
   "execution_count": 4,
   "metadata": {},
   "outputs": [
    {
     "name": "stdout",
     "output_type": "stream",
     "text": [
      "[1, 2, 3, (1, 2, 3), False, 100]\n",
      "[1, 2, 3, 100, (1, 2, 3), False, 100]\n",
      "[1, 2, 3, (1, 2, 3), False, 100]\n",
      "[1, 2, 3, 100]\n"
     ]
    }
   ],
   "source": [
    "my_list.append(100)\n",
    "print(my_list)\n",
    "my_list.insert(3,100) #syntaxnya .insert(a,b) a : posisi dimana mau di insert b: valuenya\n",
    "print(my_list)\n",
    "my_list.remove(100)\n",
    "print(my_list)\n",
    "my_list.remove(my_list[3])\n",
    "del my_list[3]\n",
    "print(my_list)\n"
   ]
  },
  {
   "cell_type": "markdown",
   "metadata": {},
   "source": [
    "# Dictionary"
   ]
  },
  {
   "cell_type": "code",
   "execution_count": 5,
   "metadata": {},
   "outputs": [
    {
     "name": "stdout",
     "output_type": "stream",
     "text": [
      "{'nama': 'Azmi', 'usia': '23', 'program': 'Data Science'}\n",
      "<class 'dict'>\n",
      "{'nama': 'Maulana Azmi', 'usia': '23', 'program': 'Data Science'}\n",
      "{'nama': 'Maulana Azmi', 'usia': '23', 'program': 'Data Science', 'status': 'menikah'}\n"
     ]
    }
   ],
   "source": [
    "#dictionary adalah type data mutable sehingga bisa diubah\n",
    "#dictionary = {key1:value1,key2:value2}\n",
    "biodata = {\"nama\" : \"Azmi\",\n",
    "            \"usia\": \"23\",\n",
    "            \"program\":\"Data Science\"}\n",
    "\n",
    "print(biodata)\n",
    "print(type(biodata))\n",
    "biodata['nama']= \"Maulana Azmi\"\n",
    "print(biodata)\n",
    "biodata['status'] = 'menikah'\n",
    "print(biodata)\n"
   ]
  },
  {
   "cell_type": "code",
   "execution_count": null,
   "metadata": {},
   "outputs": [],
   "source": []
  }
 ],
 "metadata": {
  "kernelspec": {
   "display_name": "Python 3.9.7 ('base')",
   "language": "python",
   "name": "python3"
  },
  "language_info": {
   "codemirror_mode": {
    "name": "ipython",
    "version": 3
   },
   "file_extension": ".py",
   "mimetype": "text/x-python",
   "name": "python",
   "nbconvert_exporter": "python",
   "pygments_lexer": "ipython3",
   "version": "3.9.7"
  },
  "orig_nbformat": 4,
  "vscode": {
   "interpreter": {
    "hash": "cec7daa8bc2b3acc688b72e107af71b7070ca84a9339e237bd4d9d44f746e39c"
   }
  }
 },
 "nbformat": 4,
 "nbformat_minor": 2
}
