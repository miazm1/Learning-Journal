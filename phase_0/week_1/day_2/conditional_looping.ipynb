{
 "cells": [
  {
   "cell_type": "markdown",
   "metadata": {},
   "source": [
    "# Conditional"
   ]
  },
  {
   "cell_type": "markdown",
   "metadata": {},
   "source": [
    "## if"
   ]
  },
  {
   "cell_type": "code",
   "execution_count": null,
   "metadata": {},
   "outputs": [],
   "source": [
    "# syntax if <conditional>: where conditional is boolean\n",
    "        #<statement>\n",
    "        #elif <conditional>:\n",
    "        #<statement>\n",
    "        #else:\n",
    "        #<statement>"
   ]
  },
  {
   "cell_type": "code",
   "execution_count": null,
   "metadata": {},
   "outputs": [],
   "source": [
    "a = 36\n",
    "if a%2 == 0:\n",
    "    print(f\"{a} adalah bilangan genap\")\n",
    "else:\n",
    "    print(f\"{a} adalah bilangan ganjil\")"
   ]
  },
  {
   "cell_type": "code",
   "execution_count": null,
   "metadata": {},
   "outputs": [],
   "source": [
    "cities = ['Tokyo', 'Surabaya', 'Yogyakarta', 'Jakarta', 'Paris']\n",
    "\n",
    "kota = \"Jakarta\"\n",
    "\n",
    "if kota in cities:\n",
    "    print(f\"{kota} termasuk dalam list cities\")"
   ]
  },
  {
   "cell_type": "markdown",
   "metadata": {},
   "source": [
    "## nested if"
   ]
  },
  {
   "cell_type": "code",
   "execution_count": null,
   "metadata": {},
   "outputs": [],
   "source": [
    "nilai = eval(input(\"Masukkan nilai :\"))\n",
    "if 0 <= nilai <= 100:\n",
    "    if 80 <= nilai <= 100:\n",
    "        print(\"Grade A\")\n",
    "    elif 70 <= nilai <= 80:\n",
    "        print(\"Grade B\")\n",
    "    elif 60 <= nilai <= 70:\n",
    "        print(\"Grade C\")\n",
    "    elif 40 <= nilai <= 60:\n",
    "        print(\"Grade D\")\n",
    "    else:\n",
    "        print(\"E\")\n",
    "else:\n",
    "    print(\"Nilai tidak valid\")"
   ]
  },
  {
   "cell_type": "markdown",
   "metadata": {},
   "source": [
    "# Looping"
   ]
  },
  {
   "cell_type": "markdown",
   "metadata": {},
   "source": [
    "## while loop"
   ]
  },
  {
   "cell_type": "code",
   "execution_count": null,
   "metadata": {},
   "outputs": [],
   "source": [
    "# syntax while <conditional>: where conditional is boolean\n",
    "            #<statement>\n",
    "            #<statement>"
   ]
  },
  {
   "cell_type": "code",
   "execution_count": 50,
   "metadata": {},
   "outputs": [
    {
     "name": "stdout",
     "output_type": "stream",
     "text": [
      "0\n",
      "1\n",
      "2\n",
      "3\n",
      "4\n",
      "5\n",
      "6\n",
      "7\n",
      "8\n",
      "9\n"
     ]
    }
   ],
   "source": [
    "o = 0\n",
    "while o<10:\n",
    "    print (o)\n",
    "    o += 1 # o = o+1\n",
    "    \n",
    "    "
   ]
  },
  {
   "cell_type": "markdown",
   "metadata": {},
   "source": [
    "## nested while"
   ]
  },
  {
   "cell_type": "code",
   "execution_count": null,
   "metadata": {},
   "outputs": [],
   "source": [
    "e =1\n",
    "g =1\n",
    "while e <=10:\n",
    "    while g <=10:\n",
    "        print(f'{e} x {g} = {e*g}')\n",
    "        g = g+1\n",
    "    print ('='*10)\n",
    "    e = e + 1\n",
    "    g=1\n",
    "    \n"
   ]
  },
  {
   "cell_type": "markdown",
   "metadata": {},
   "source": [
    "## For Loop"
   ]
  },
  {
   "cell_type": "code",
   "execution_count": null,
   "metadata": {},
   "outputs": [],
   "source": [
    "# syntax for <temp.value> in <set of value>:\n",
    "            #<statement>\n",
    "            #<statement>"
   ]
  },
  {
   "cell_type": "code",
   "execution_count": null,
   "metadata": {},
   "outputs": [],
   "source": [
    "cities_1 = ['Tokyo', 'Surabaya', 'Yogyakarta', 'Jakarta', 'Paris','Manado']\n",
    "for i in cities_1:\n",
    "    print(i)"
   ]
  },
  {
   "cell_type": "code",
   "execution_count": null,
   "metadata": {},
   "outputs": [],
   "source": [
    "h = 1\n",
    "k = 1\n",
    "for h in range(1,11):\n",
    "    for k in range(1,11):\n",
    "        print (f\"{k} x {h} = {k*h}\")\n",
    "    print(\"=\" *10)"
   ]
  },
  {
   "cell_type": "code",
   "execution_count": 57,
   "metadata": {},
   "outputs": [
    {
     "name": "stdout",
     "output_type": "stream",
     "text": [
      "[6, 7, 8, 9, 10]\n"
     ]
    }
   ],
   "source": [
    "angka = [1,2,3,4,5,6,7,8,9,10]\n",
    "\n",
    "above_5 = []\n",
    "\n",
    "for value in angka:\n",
    "    if value > 5:\n",
    "        above_5.append(value)\n",
    "print(above_5)"
   ]
  },
  {
   "cell_type": "code",
   "execution_count": 60,
   "metadata": {},
   "outputs": [],
   "source": [
    "d = {\"azmi\": 23,\"hazia\": 24}"
   ]
  },
  {
   "cell_type": "code",
   "execution_count": 61,
   "metadata": {},
   "outputs": [
    {
     "data": {
      "text/plain": [
       "dict_keys(['azmi', 'hazia'])"
      ]
     },
     "execution_count": 61,
     "metadata": {},
     "output_type": "execute_result"
    }
   ],
   "source": [
    "d.keys()"
   ]
  },
  {
   "cell_type": "code",
   "execution_count": 63,
   "metadata": {},
   "outputs": [
    {
     "data": {
      "text/plain": [
       "dict_values([23, 24])"
      ]
     },
     "execution_count": 63,
     "metadata": {},
     "output_type": "execute_result"
    }
   ],
   "source": [
    "d.values()"
   ]
  },
  {
   "cell_type": "code",
   "execution_count": 64,
   "metadata": {},
   "outputs": [
    {
     "data": {
      "text/plain": [
       "dict_items([('azmi', 23), ('hazia', 24)])"
      ]
     },
     "execution_count": 64,
     "metadata": {},
     "output_type": "execute_result"
    }
   ],
   "source": [
    "d.items()"
   ]
  },
  {
   "cell_type": "code",
   "execution_count": 72,
   "metadata": {},
   "outputs": [
    {
     "name": "stdout",
     "output_type": "stream",
     "text": [
      "Azmi berumur 23 tahun\n",
      "Hazia berumur 24 tahun\n"
     ]
    }
   ],
   "source": [
    "for nama,umur in d.items():\n",
    "    print (nama.capitalize() + ' berumur ' + str(umur) + ' tahun')"
   ]
  },
  {
   "cell_type": "code",
   "execution_count": 75,
   "metadata": {},
   "outputs": [
    {
     "name": "stdout",
     "output_type": "stream",
     "text": [
      "0 Tokyo\n",
      "==========\n",
      "1 Surabaya\n",
      "==========\n",
      "2 Yogyakarta\n",
      "==========\n",
      "3 Jakarta\n",
      "==========\n",
      "4 Paris\n",
      "==========\n",
      "5 Manado\n",
      "==========\n"
     ]
    }
   ],
   "source": [
    "for idx,kota in enumerate(cities_1): #enumerate untuk menghasilkan index2\n",
    "    print(str(idx) + \" \" + kota)\n",
    "    print(\"=\" * 10)"
   ]
  },
  {
   "cell_type": "markdown",
   "metadata": {},
   "source": [
    "# Flow control statement"
   ]
  },
  {
   "cell_type": "markdown",
   "metadata": {},
   "source": [
    "## Continue"
   ]
  },
  {
   "cell_type": "code",
   "execution_count": 51,
   "metadata": {},
   "outputs": [
    {
     "name": "stdout",
     "output_type": "stream",
     "text": [
      "0\n",
      "1\n",
      "3\n",
      "4\n",
      "5\n",
      "8\n",
      "10\n"
     ]
    }
   ],
   "source": [
    "p =0\n",
    "for p in range(0,11):\n",
    "    if p in [2,6,7,9]:\n",
    "        continue\n",
    "    print (p)"
   ]
  },
  {
   "cell_type": "markdown",
   "metadata": {},
   "source": [
    "## Break"
   ]
  },
  {
   "cell_type": "code",
   "execution_count": 52,
   "metadata": {},
   "outputs": [
    {
     "name": "stdout",
     "output_type": "stream",
     "text": [
      "0\n",
      "1\n"
     ]
    }
   ],
   "source": [
    "p =0\n",
    "for p in range(0,11):\n",
    "    if p in [2,6,7,9]:\n",
    "        break\n",
    "    print (p)"
   ]
  },
  {
   "cell_type": "code",
   "execution_count": null,
   "metadata": {},
   "outputs": [],
   "source": []
  }
 ],
 "metadata": {
  "kernelspec": {
   "display_name": "Python 3.9.7 ('base')",
   "language": "python",
   "name": "python3"
  },
  "language_info": {
   "codemirror_mode": {
    "name": "ipython",
    "version": 3
   },
   "file_extension": ".py",
   "mimetype": "text/x-python",
   "name": "python",
   "nbconvert_exporter": "python",
   "pygments_lexer": "ipython3",
   "version": "3.9.7"
  },
  "orig_nbformat": 4,
  "vscode": {
   "interpreter": {
    "hash": "cec7daa8bc2b3acc688b72e107af71b7070ca84a9339e237bd4d9d44f746e39c"
   }
  }
 },
 "nbformat": 4,
 "nbformat_minor": 2
}
